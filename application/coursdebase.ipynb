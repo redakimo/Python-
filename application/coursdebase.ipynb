{
 "cells": [
  {
   "cell_type": "code",
   "execution_count": null,
   "id": "initial_id",
   "metadata": {
    "collapsed": true
   },
   "outputs": [],
   "source": []
  },
  {
   "cell_type": "code",
   "outputs": [
    {
     "name": "stdout",
     "output_type": "stream",
     "text": [
      "Counter()\n",
      "Counter({'o': 3, 'u': 2, 'b': 1, 'n': 1, 'j': 1, 'r': 1, ' ': 1, 't': 1, 's': 1})\n",
      "Counter({'red': 4, 'blue': 2})\n",
      "Counter({'dogs': 8, 'cats': 4})\n"
     ]
    }
   ],
   "source": [
    "from collections import Counter\n",
    "c = Counter() # compteur vide\n",
    "print(c) # affiche: Counter()\n",
    "c = Counter('bonjour tous') #compteur avec un iterable\n",
    "print(c) \n",
    "c = Counter({'red': 4, 'blue': 2}) # un compteur avec un mapping\n",
    "print(c) #affcihe: Counter({'red': 4, 'blue': 2})\n",
    "c = Counter(cats=4, dogs=8) #un compteur avec key=valeur\n",
    "print(c)"
   ],
   "metadata": {
    "collapsed": false,
    "ExecuteTime": {
     "end_time": "2024-04-01T10:51:43.389297200Z",
     "start_time": "2024-04-01T10:51:43.378789300Z"
    }
   },
   "id": "2be822a62b55c0f8",
   "execution_count": 2
  },
  {
   "cell_type": "code",
   "outputs": [
    {
     "name": "stdout",
     "output_type": "stream",
     "text": [
      "Counter({'eggs': 1, 'ham': 1})\n"
     ]
    }
   ],
   "source": [
    "from collections import Counter\n",
    "c = Counter(['eggs', 'ham'])\n",
    "c[\"bacon\"] # clé inconnue, affiche: 0\n",
    "c = Counter(['eggs', 'ham'])\n",
    "c=Counter(['eggs', 'ham'])\n",
    "print(c)"
   ],
   "metadata": {
    "collapsed": false,
    "ExecuteTime": {
     "end_time": "2024-04-01T10:54:56.660756600Z",
     "start_time": "2024-04-01T10:54:56.656035300Z"
    }
   },
   "id": "83f6e0d34a93e5dd",
   "execution_count": 8
  },
  {
   "cell_type": "code",
   "outputs": [
    {
     "data": {
      "text/plain": "['a', 'a', 'a', 'a', 'b', 'b']"
     },
     "execution_count": 9,
     "metadata": {},
     "output_type": "execute_result"
    }
   ],
   "source": [
    "c = Counter(a=4, b=2, c=0, d=-2)\n",
    "sorted(c.elements()) #affiche ['a', 'a', 'a', 'a', 'b', 'b']"
   ],
   "metadata": {
    "collapsed": false,
    "ExecuteTime": {
     "end_time": "2024-04-01T10:55:32.503626600Z",
     "start_time": "2024-04-01T10:55:32.495069900Z"
    }
   },
   "id": "ce8d949f04070de8",
   "execution_count": 9
  },
  {
   "cell_type": "code",
   "outputs": [
    {
     "name": "stdout",
     "output_type": "stream",
     "text": [
      "[('a', 5), ('b', 2)]\n"
     ]
    }
   ],
   "source": [
    "print(Counter('abracadabra').most_common(2)) #affiche [('a', 5), ('b', 2), ('r', 2)]"
   ],
   "metadata": {
    "collapsed": false,
    "ExecuteTime": {
     "end_time": "2024-04-01T10:57:35.502867400Z",
     "start_time": "2024-04-01T10:57:35.494426700Z"
    }
   },
   "id": "7c54571401fc8ee8",
   "execution_count": 11
  },
  {
   "cell_type": "code",
   "outputs": [
    {
     "name": "stdout",
     "output_type": "stream",
     "text": [
      "0 en binaire = 1100\n"
     ]
    }
   ],
   "source": [
    "n=int(input(\"entre un entier :\"))\n",
    "if n<0:\n",
    "    print(\"entrer un nombre positif !!\")\n",
    "else:\n",
    "    code_binaire=\"\"\n",
    "    while n>0:\n",
    "        code_binaire=str(n%2) +code_binaire\n",
    "        n=n//2\n",
    "print(n,\"en binaire =\",code_binaire)"
   ],
   "metadata": {
    "collapsed": false,
    "ExecuteTime": {
     "end_time": "2024-04-01T11:04:29.828114500Z",
     "start_time": "2024-04-01T11:04:24.647748Z"
    }
   },
   "id": "10db752f9bcb6a69",
   "execution_count": 13
  },
  {
   "cell_type": "code",
   "outputs": [
    {
     "name": "stdout",
     "output_type": "stream",
     "text": [
      "le diviseur commun des nombres  48 36  est :\n",
      "12\n"
     ]
    }
   ],
   "source": [
    "nombre1 = int(input(\"Entrez le premier entier naturel : \"))\n",
    "nombre2 = int(input(\"Entrez le deuxième entier naturel : \"))\n",
    "print(\"le diviseur commun des nombres \",nombre1,nombre2,\" est :\")\n",
    "while nombre1!=nombre2:\n",
    "    if nombre1>nombre2:\n",
    "        nombre1=nombre1-nombre2\n",
    "    else:\n",
    "        nombre2=nombre2-nombre1\n",
    "print(nombre1)"
   ],
   "metadata": {
    "collapsed": false,
    "ExecuteTime": {
     "end_time": "2024-04-01T11:21:04.715328100Z",
     "start_time": "2024-04-01T11:20:49.420214900Z"
    }
   },
   "id": "2db00f848a3a5a45",
   "execution_count": 16
  },
  {
   "cell_type": "code",
   "outputs": [
    {
     "name": "stdout",
     "output_type": "stream",
     "text": [
      "OrderedDict({'a': '1', 'c': '3', 'd': '4', 'b': '2'})\n",
      "OrderedDict({'b': '2', 'a': '1', 'c': '3', 'd': '4'})\n",
      "('d', '4')\n",
      "OrderedDict({'b': '2', 'a': '1', 'c': '3'})\n"
     ]
    }
   ],
   "source": [
    "from collections import OrderedDict\n",
    "d=OrderedDict()\n",
    "d['a']='1' #remplir d\n",
    "d['b']='2'\n",
    "d['c']='3'\n",
    "d['d']='4'\n",
    "d.move_to_end('b')\n",
    "print(d) #affiche OrderedDict([('a', '1'), ('c', '3'), ('d', '4'), ('b', '2')])\n",
    "d.move_to_end('b',last=False)\n",
    "print(d) #affiche OrderedDict([('b', '2'), ('a', '1'), ('c', '3'), ('d', '4')])\n",
    "print(d.popitem(True)) #affiche ('d', '4')\n",
    "print(d) #affiche OrderedDict([('b', '2'), ('a', '1'), ('c', '3')])"
   ],
   "metadata": {
    "collapsed": false,
    "ExecuteTime": {
     "end_time": "2024-04-01T11:26:13.481773900Z",
     "start_time": "2024-04-01T11:26:13.476046800Z"
    }
   },
   "id": "f8eacaa7ff25829a",
   "execution_count": 18
  },
  {
   "cell_type": "code",
   "outputs": [
    {
     "name": "stdout",
     "output_type": "stream",
     "text": [
      "value1\n",
      "value2\n",
      "key is not there\n"
     ]
    }
   ],
   "source": [
    "from collections import defaultdict\n",
    "def default_message():\n",
    "    return \"key is not there\"\n",
    "defaultdcit_obj= defaultdict(default_message)\n",
    "defaultdcit_obj[\"key1\"]=\"value1\"\n",
    "defaultdcit_obj[\"key2\"]=\"value2\"\n",
    "print(defaultdcit_obj[\"key1\"]) #affiche: value1\n",
    "print(defaultdcit_obj[\"key2\"]) #affiche: value2\n",
    "print(defaultdcit_obj[\"key3\"]) #affiche: key is not there"
   ],
   "metadata": {
    "collapsed": false,
    "ExecuteTime": {
     "end_time": "2024-04-01T11:30:24.173487200Z",
     "start_time": "2024-04-01T11:30:24.164546600Z"
    }
   },
   "id": "5db71ca019373ab8",
   "execution_count": 19
  },
  {
   "cell_type": "code",
   "outputs": [
    {
     "name": "stdout",
     "output_type": "stream",
     "text": [
      "value1\n",
      "value2\n",
      "key is missing\n"
     ]
    }
   ],
   "source": [
    "from collections import defaultdict\n",
    "defaultdcit_obj= defaultdict(lambda: \"key is missing\") #déclaration d’une fonction lambda pour afficher un message\n",
    "defaultdcit_obj[\"key1\"]=\"value1\"\n",
    "defaultdcit_obj[\"key2\"]=\"value2\"\n",
    "print(defaultdcit_obj[\"key1\"]) #affiche: value1\n",
    "print(defaultdcit_obj[\"key2\"]) #affiche: value2\n",
    "print(defaultdcit_obj[\"key3\"]) #appel de la fonction lambda, affiche: key is missing"
   ],
   "metadata": {
    "collapsed": false,
    "ExecuteTime": {
     "end_time": "2024-04-01T11:31:16.251441900Z",
     "start_time": "2024-04-01T11:31:16.241417300Z"
    }
   },
   "id": "eaed7fd5677a1d5a",
   "execution_count": 20
  },
  {
   "cell_type": "code",
   "outputs": [],
   "source": [],
   "metadata": {
    "collapsed": false
   },
   "id": "1151cee900a1eb9b"
  }
 ],
 "metadata": {
  "kernelspec": {
   "display_name": "Python 3",
   "language": "python",
   "name": "python3"
  },
  "language_info": {
   "codemirror_mode": {
    "name": "ipython",
    "version": 2
   },
   "file_extension": ".py",
   "mimetype": "text/x-python",
   "name": "python",
   "nbconvert_exporter": "python",
   "pygments_lexer": "ipython2",
   "version": "2.7.6"
  }
 },
 "nbformat": 4,
 "nbformat_minor": 5
}
